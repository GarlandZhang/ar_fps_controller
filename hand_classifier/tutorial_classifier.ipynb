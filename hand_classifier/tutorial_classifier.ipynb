{
 "cells": [
  {
   "cell_type": "code",
   "execution_count": null,
   "metadata": {},
   "outputs": [],
   "source": [
    "import tensorflow as tf\n",
    "%load_ext tensorboard.notebook\n",
    "from tensorflow.keras.models import Sequential\n",
    "from tensorflow.keras.layers import Dense, Conv2D, Flatten, Dropout, MaxPooling2D, Softmax, BatchNormalization, Activation\n",
    "from tensorflow.keras.preprocessing.image import ImageDataGenerator"
   ]
  },
  {
   "cell_type": "code",
   "execution_count": null,
   "metadata": {},
   "outputs": [],
   "source": [
    "import os\n",
    "import numpy as np\n",
    "import matplotlib.pyplot as plt\n",
    "import cv2\n",
    "import math\n",
    "import datetime\n",
    "from utils import *"
   ]
  },
  {
   "cell_type": "code",
   "execution_count": null,
   "metadata": {},
   "outputs": [],
   "source": [
    "train_dir = os.path.join('images', 'train')\n",
    "valid_dir = os.path.join('images', 'validation')\n",
    "test_dir = os.path.join('images', 'test')\n",
    "\n",
    "class_names = get_class_labels() # in the prediction output, the order is point_foreward (0), point_up (1), curl (2)"
   ]
  },
  {
   "cell_type": "code",
   "execution_count": null,
   "metadata": {},
   "outputs": [],
   "source": [
    "batch_size = 16\n",
    "epochs = 100\n",
    "HEIGHT=75\n",
    "WIDTH=75"
   ]
  },
  {
   "cell_type": "code",
   "execution_count": null,
   "metadata": {},
   "outputs": [],
   "source": [
    "train_image_generator = ImageDataGenerator(\n",
    "    rescale=1./255,\n",
    "    rotation_range=45,\n",
    "    width_shift_range=.15,\n",
    "    height_shift_range=.15,\n",
    "    horizontal_flip=True,\n",
    "    zoom_range=0.5\n",
    ")\n",
    "train_data_gen = train_image_generator.flow_from_directory(\n",
    "    batch_size=128,\n",
    "    directory=train_dir,\n",
    "    shuffle=True,\n",
    "    target_size=(HEIGHT, WIDTH),\n",
    "    classes=class_names,\n",
    "    class_mode='sparse'\n",
    ")\n",
    "valid_image_generator = ImageDataGenerator(\n",
    "    rescale=1./255,\n",
    ")\n",
    "valid_data_gen = valid_image_generator.flow_from_directory(\n",
    "    batch_size=128,\n",
    "    directory=valid_dir,\n",
    "    shuffle=True,\n",
    "    target_size=(HEIGHT, WIDTH),\n",
    "    classes=class_names,\n",
    "    class_mode='sparse'\n",
    ")"
   ]
  },
  {
   "cell_type": "code",
   "execution_count": null,
   "metadata": {},
   "outputs": [],
   "source": [
    "# train_dir = os.path.join('..', 'detect_classify_images', 'failed')\n",
    "\n",
    "total_train = 0\n",
    "total_val = 0\n",
    "images = []\n",
    "labels = []\n",
    "for i, direc in enumerate(class_names):\n",
    "    train_class_dir = os.path.join(train_dir, direc)\n",
    "    files = os.listdir(train_class_dir)\n",
    "    total_train += len(files)\n",
    "    for f in files:\n",
    "        image = cv2.imread(os.path.join(train_class_dir, f))\n",
    "        image = image / 255.0\n",
    "        image = cv2.resize(image, (HEIGHT, WIDTH)) \n",
    "        images.append(image)\n",
    "        labels.append(i)\n",
    "        \n",
    "    valid_class_dir = os.path.join(valid_dir, direc)\n",
    "    files = os.listdir(valid_class_dir)\n",
    "    total_val += len(files)\n",
    "        \n",
    "images = np.array(images)\n",
    "labels = np.array(labels)"
   ]
  },
  {
   "cell_type": "code",
   "execution_count": null,
   "metadata": {},
   "outputs": [],
   "source": [
    "# model = Sequential([\n",
    "#     Flatten(input_shape=(HEIGHT, WIDTH, 3)),\n",
    "#     Dense(128, activation='relu'),\n",
    "#     Dense(3, activation='softmax'),\n",
    "# ])\n",
    "\n",
    "# model = Sequential([\n",
    "#     # Layer 1\n",
    "#     Conv2D(64, (5, 5), input_shape=(HEIGHT, WIDTH, 3)),\n",
    "#     Activation('relu'),\n",
    "#     MaxPooling2D(pool_size=(3, 3), strides=2),\n",
    "#     Dropout(0.2),\n",
    "    \n",
    "#     # Layer 2\n",
    "#     Conv2D(64, (5, 5), padding='same'),\n",
    "#     Activation('relu'),\n",
    "#     MaxPooling2D(pool_size=(3, 3), strides=2),\n",
    "    \n",
    "#     # Layer 3\n",
    "#     Conv2D(128, (3, 3), padding='same'),\n",
    "#     Activation('relu'),\n",
    "#     MaxPooling2D(pool_size=(3, 3), strides=2),\n",
    "#     Dropout(0.2),\n",
    "    \n",
    "#     Flatten(),\n",
    "#     Dense(512),\n",
    "#     Activation('relu'),\n",
    "#     Dense(3),\n",
    "#     Softmax()\n",
    "# ])\n",
    "\n",
    "model = Sequential([\n",
    "    Conv2D(16, 3, padding='same', activation='relu', \n",
    "           input_shape=(HEIGHT, WIDTH ,3)),\n",
    "    MaxPooling2D(),\n",
    "    Dropout(0.2),\n",
    "    Conv2D(32, 3, padding='same', activation='relu'),\n",
    "    MaxPooling2D(),\n",
    "    Conv2D(64, 3, padding='same', activation='relu'),\n",
    "    MaxPooling2D(),\n",
    "    Dropout(0.2),\n",
    "    Flatten(),\n",
    "    Dense(512, activation='relu'),\n",
    "    Dense(3)\n",
    "])\n",
    "\n",
    "model = load_classifier('model3')"
   ]
  },
  {
   "cell_type": "code",
   "execution_count": null,
   "metadata": {},
   "outputs": [],
   "source": [
    "opt = tf.keras.optimizers.Adam(lr=1e-7)\n",
    "model.compile(optimizer=opt,\n",
    "              loss=sparse_categorical_crossentropy_with_logits,\n",
    "              metrics=['accuracy'])"
   ]
  },
  {
   "cell_type": "code",
   "execution_count": null,
   "metadata": {},
   "outputs": [],
   "source": [
    "history = model.fit_generator(\n",
    "    train_data_gen,\n",
    "    steps_per_epoch=total_train // batch_size,\n",
    "    epochs=100,\n",
    "    validation_data=valid_data_gen,\n",
    "    validation_steps=total_val // batch_size\n",
    ")\n",
    "# history = model.fit(images, labels, epochs=10)"
   ]
  },
  {
   "cell_type": "code",
   "execution_count": null,
   "metadata": {},
   "outputs": [],
   "source": [
    "acc = history.history['acc']\n",
    "val_acc = history.history['val_acc']\n",
    "\n",
    "loss = history.history['loss']\n",
    "val_loss = history.history['val_loss']\n",
    "\n",
    "epochs_range = range(10)\n",
    "\n",
    "plt.figure(figsize=(8, 8))\n",
    "plt.subplot(1, 2, 1)\n",
    "plt.plot(epochs_range, acc, label='Training Accuracy')\n",
    "plt.plot(epochs_range, val_acc, label='Validation Accuracy')\n",
    "plt.legend(loc='lower right')\n",
    "plt.title('Training and Validation Accuracy')\n",
    "\n",
    "plt.subplot(1, 2, 2)\n",
    "plt.plot(epochs_range, loss, label='Training Loss')\n",
    "plt.plot(epochs_range, val_loss, label='Validation Loss')\n",
    "plt.legend(loc='upper right')\n",
    "plt.title('Training and Validation Loss')\n",
    "plt.show()"
   ]
  },
  {
   "cell_type": "code",
   "execution_count": null,
   "metadata": {},
   "outputs": [],
   "source": [
    "correct = 0\n",
    "for i, image in enumerate(images):\n",
    "    batch = np.expand_dims(image, axis=0).astype(np.float32)\n",
    "    res = model.predict(batch)\n",
    "    prediction = np.argmax(res[0])\n",
    "    if prediction == labels[i]:\n",
    "        correct += 1\n",
    "#     if labels[i] == 2:\n",
    "    print('prediction: {} vs actual: {} | res: {} '.format(prediction, labels[i], res))\n",
    "print('correct: {} | num labels: {} => {}'.format(correct, len(labels), correct / len(labels)))"
   ]
  },
  {
   "cell_type": "code",
   "execution_count": null,
   "metadata": {},
   "outputs": [],
   "source": [
    "model.save('model3')"
   ]
  },
  {
   "cell_type": "code",
   "execution_count": null,
   "metadata": {},
   "outputs": [],
   "source": [
    "# testing only passed this cell\n",
    "\n",
    "test_images = []\n",
    "test_labels = []\n",
    "for i, direc in enumerate(class_names):\n",
    "    test_class_dir = os.path.join(test_dir, direc)\n",
    "    files = os.listdir(test_class_dir)\n",
    "    for f in files:\n",
    "        image = cv2.imread(os.path.join(test_class_dir, f))\n",
    "        image = image / 255.0\n",
    "        image = cv2.resize(image, (HEIGHT, WIDTH)) \n",
    "        test_images.append(image)\n",
    "        test_labels.append(i)\n",
    "\n",
    "test_images = np.array(test_images)\n",
    "test_labels = np.array(test_labels)"
   ]
  },
  {
   "cell_type": "code",
   "execution_count": null,
   "metadata": {},
   "outputs": [],
   "source": [
    "correct = 0\n",
    "for i, image in enumerate(test_images):\n",
    "    batch = np.expand_dims(image, axis=0).astype(np.float32)\n",
    "    res = model.predict(batch)\n",
    "    prediction = np.argmax(res[0])\n",
    "    if prediction == test_labels[i]:\n",
    "        correct += 1\n",
    "    print('prediction: {} vs actual: {}'.format(prediction, test_labels[i]))\n",
    "print('correct: {} | num labels: {} => {}'.format(correct, len(test_labels), correct / len(test_labels)))"
   ]
  },
  {
   "cell_type": "code",
   "execution_count": null,
   "metadata": {},
   "outputs": [],
   "source": [
    "# model.save('model_simple_data_aug2')\n",
    "class_labels = get_class_labels()"
   ]
  },
  {
   "cell_type": "code",
   "execution_count": null,
   "metadata": {},
   "outputs": [],
   "source": [
    "# live demo\n",
    "cap = cv2.VideoCapture(0)\n",
    "while True:\n",
    "    ret, frame = cap.read()\n",
    "    \n",
    "    crop = frame[200:325, 200:325].copy()\n",
    "    cv2.rectangle(frame, (200, 200), (275, 275), (0, 255, 0), 3, 1)\n",
    "    img = cv2.resize(crop, (75, 75))\n",
    "    batch = np.expand_dims(img, axis=0).astype(np.float32)\n",
    "    res = model.predict(batch)\n",
    "    name = class_labels[np.argmax(res[0])]\n",
    "#     print(name)\n",
    "    \n",
    "    cv2.putText(frame, \"{} | {}\".format(name, res), (40, 40), cv2.FONT_HERSHEY_COMPLEX, 0.5, (0, 255, 0), 1)\n",
    "    cv2.imshow('frame', frame)\n",
    "    \n",
    "    if cv2.waitKey(30) & 0xFF == ord('q'):\n",
    "        break\n",
    "    \n",
    "cap.release()\n",
    "cv2.destroyAllWindows()"
   ]
  },
  {
   "cell_type": "code",
   "execution_count": null,
   "metadata": {},
   "outputs": [],
   "source": []
  }
 ],
 "metadata": {
  "kernelspec": {
   "display_name": "'Python Interactive'",
   "language": "python",
   "name": "b1f5ecc2-9402-4694-868a-a87391986ff5"
  },
  "language_info": {
   "codemirror_mode": {
    "name": "ipython",
    "version": 3
   },
   "file_extension": ".py",
   "mimetype": "text/x-python",
   "name": "python",
   "nbconvert_exporter": "python",
   "pygments_lexer": "ipython3",
   "version": "3.6.8"
  }
 },
 "nbformat": 4,
 "nbformat_minor": 2
}
