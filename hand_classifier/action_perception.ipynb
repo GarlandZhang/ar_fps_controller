{
 "cells": [
  {
   "cell_type": "code",
   "execution_count": null,
   "metadata": {},
   "outputs": [],
   "source": [
    "import numpy as np\n",
    "import cv2\n",
    "import os\n",
    "from utils import *"
   ]
  },
  {
   "cell_type": "code",
   "execution_count": null,
   "metadata": {},
   "outputs": [],
   "source": [
    "curl_category = ['curl', 'curl_45_out', 'curl_90_out', 'curl_45_palm', 'curl_90_palm']\n",
    "point_foreward_category = ['point_foreward', 'point_foreward_45_out', 'point_foreward_90_out', 'point_foreward_45_palm', 'point_foreward_90_palm']\n",
    "point_up_category = ['point_up', 'point_up_out', 'point_up_palm', 'point_up_thumb']\n",
    "ammo = 30"
   ]
  },
  {
   "cell_type": "code",
   "execution_count": null,
   "metadata": {},
   "outputs": [],
   "source": [
    "def interpret(history, inp):\n",
    "    if len(history) == 0:\n",
    "        history.append(inp)\n",
    "        print('nothing')\n",
    "        return\n",
    "    \n",
    "    last_move = history[-1]\n",
    "    print('last_move: {} | inp: {}'.format(last_move, inp))\n",
    "    history.append(inp)\n",
    "    if inp in curl_category:\n",
    "        ammo -= 1\n",
    "        return 'shoot'\n",
    "    elif inp in point_foreward_category:\n",
    "        return 'stop'\n",
    "    elif inp in point_up_category:\n",
    "        ammo = 30\n",
    "        return 'reload'\n",
    "    else:\n",
    "        print('nothing')\n",
    "        return"
   ]
  },
  {
   "cell_type": "code",
   "execution_count": null,
   "metadata": {},
   "outputs": [],
   "source": [
    "labels = get_class_labels()\n",
    "\n",
    "num_values = 100\n",
    "inps = np.random.choice(labels, num_values)\n",
    "print(inps)\n",
    "\n",
    "history = []\n",
    "\n",
    "for i, inp in enumerate(inps):\n",
    "    action = interpret(history, inp)\n",
    "    if action is not None:\n",
    "        print('{} => {}: do action: {}'.format(len(history) - 2, len(history) - 1, action))\n",
    "        print('ammo: {}'.format(ammo))\n",
    "    "
   ]
  },
  {
   "cell_type": "code",
   "execution_count": null,
   "metadata": {},
   "outputs": [],
   "source": [
    "output_dir = 'E:/ar_fps/action_perception/frames'"
   ]
  },
  {
   "cell_type": "code",
   "execution_count": null,
   "metadata": {},
   "outputs": [],
   "source": [
    "cap = cv2.VideoCapture('E:/ar_fps/gameplay.mp4')"
   ]
  },
  {
   "cell_type": "code",
   "execution_count": null,
   "metadata": {},
   "outputs": [],
   "source": [
    "# extract frames\n",
    "\n",
    "init_box = None\n",
    "tracker = cv2.TrackerKCF_create()\n",
    "\n",
    "x_start = 200\n",
    "y_start = 200\n",
    "width = 125\n",
    "height = 125\n",
    "\n",
    "_, frame = cap.read()\n",
    "frames = [frame]\n",
    "# box = cv2.selectROI('Frame', frame, fromCenter=False, showCrosshair=True)\n",
    "# tracked_boxes = [box]\n",
    "# tracker = cv2.TrackerKCF_create()\n",
    "# tracker.init(frame, box)\n",
    "i = 1\n",
    "while True:\n",
    "    ret, frame = cap.read()\n",
    "    \n",
    "    if not ret:\n",
    "        break\n",
    "       \n",
    "    orig = frame.copy()\n",
    "#     ret, box = tracker.update(orig)\n",
    "\n",
    "#     if ret:\n",
    "#         x, y, w, h = map(int, box)\n",
    "#         cv2.rectangle(frame, (x, y), (x + w, y + h), (0, 255, 0), 3, 1)\n",
    "#     else:\n",
    "#         box = cv2.selectROI('Frame', frame, fromCenter=False, showCrosshair=True)\n",
    "#         tracker = cv2.TrackerKCF_create()\n",
    "#         tracker.init(orig, box)\n",
    "        \n",
    "        \n",
    "    frames.append(orig)\n",
    "#     tracked_boxes.append(box)\n",
    "        \n",
    "#     cv2.waitKey(10) & 0xff\n",
    "#     cv2.imshow('img', frame)\n",
    "    \n",
    "    i += 1\n",
    "\n",
    "cap.release()\n",
    "cv2.destroyAllWindows()"
   ]
  },
  {
   "cell_type": "code",
   "execution_count": null,
   "metadata": {},
   "outputs": [],
   "source": [
    "# with open('gameplay_data.txt', 'w') as f:\n",
    "#     for box in tracked_boxes:\n",
    "        \n",
    "#         f.write(','.join(list(map(str, box))) + '\\n')"
   ]
  },
  {
   "cell_type": "code",
   "execution_count": null,
   "metadata": {},
   "outputs": [],
   "source": [
    "tracked_boxes = []\n",
    "with open('gameplay_data.txt', 'rb') as f:\n",
    "    while True:\n",
    "        line = f.readline()\n",
    "        if line:\n",
    "            line = line.decode('utf-8').split('\\r\\n')[0]\n",
    "            box = list(map(int, map(float, line.split(','))))\n",
    "            tracked_boxes.append(box)\n",
    "        else: \n",
    "            break"
   ]
  },
  {
   "cell_type": "code",
   "execution_count": null,
   "metadata": {},
   "outputs": [],
   "source": [
    "from utils import *"
   ]
  },
  {
   "cell_type": "code",
   "execution_count": null,
   "metadata": {},
   "outputs": [],
   "source": [
    "model = load_classifier()"
   ]
  },
  {
   "cell_type": "code",
   "execution_count": null,
   "metadata": {},
   "outputs": [],
   "source": [
    "quit = False\n",
    "for i, frame in enumerate(frames):\n",
    "    box = tracked_boxes[i]\n",
    "    x, y, w, h = map(int, box)\n",
    "    crop = frame[y:y+h, x:x+w]\n",
    "    \n",
    "    # preprocess\n",
    "    img = cv2.resize(crop, (75, 75))\n",
    "    batch = np.expand_dims(img, axis=0).astype(np.float32)\n",
    "    \n",
    "    # run prediction\n",
    "    res = model.predict(batch)\n",
    "    pred_ind = np.argmax(res[0])\n",
    "    pred = labels[pred_ind]\n",
    "    print(res)\n",
    "    print(pred)\n",
    "    disp = frame.copy()\n",
    "    cv2.rectangle(disp, (x, y), (x + w, y + h), (0, 255, 0), 3, 1)\n",
    "    cv2.putText(disp, pred, (x, y), cv2.FONT_HERSHEY_COMPLEX, 0.5, (0,255,0), 1)\n",
    "    cv2.imshow('img', disp)\n",
    "    while True:\n",
    "        k = cv2.waitKey(30) & 0xff\n",
    "        if k == ord('n'):\n",
    "            break\n",
    "        elif k == ord('q'):\n",
    "            quit = True\n",
    "            break\n",
    "        elif k == ord('1'):\n",
    "            cv2.imwrite(os.path.join(output_dir, 'point_foreward', 'img{}.jpg'.format(i)), crop)\n",
    "            break\n",
    "        elif k == ord('2'):\n",
    "            cv2.imwrite(os.path.join(output_dir, 'point_up', 'img{}.jpg'.format(i)), crop)\n",
    "            break\n",
    "        elif k == ord('3'):\n",
    "            cv2.imwrite(os.path.join(output_dir, 'curl', 'img{}.jpg'.format(i)), crop)\n",
    "            break\n",
    "    if quit:\n",
    "        break\n",
    "       \n",
    "cv2.destroyAllWindows()"
   ]
  },
  {
   "cell_type": "code",
   "execution_count": null,
   "metadata": {},
   "outputs": [],
   "source": []
  }
 ],
 "metadata": {
  "kernelspec": {
   "display_name": "Python 3",
   "language": "python",
   "name": "python3"
  },
  "language_info": {
   "codemirror_mode": {
    "name": "ipython",
    "version": 3
   },
   "file_extension": ".py",
   "mimetype": "text/x-python",
   "name": "python",
   "nbconvert_exporter": "python",
   "pygments_lexer": "ipython3",
   "version": "3.7.4"
  }
 },
 "nbformat": 4,
 "nbformat_minor": 2
}
