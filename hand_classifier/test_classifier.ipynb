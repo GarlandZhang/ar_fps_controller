{
 "cells": [
  {
   "cell_type": "code",
   "execution_count": null,
   "metadata": {},
   "outputs": [],
   "source": [
    "import tensorflow as tf\n",
    "import cv2\n",
    "import numpy as np\n",
    "import os\n",
    "import matplotlib.pyplot as plt\n",
    "from utils import sparse_categorical_crossentropy_with_logits"
   ]
  },
  {
   "cell_type": "code",
   "execution_count": null,
   "metadata": {},
   "outputs": [],
   "source": [
    "from tensorflow.keras.models import Sequential\n",
    "from tensorflow.keras.layers import Dense, Conv2D, Flatten, Dropout, MaxPooling2D, Softmax\n",
    "from tensorflow.keras.preprocessing.image import ImageDataGenerator"
   ]
  },
  {
   "cell_type": "code",
   "execution_count": null,
   "metadata": {},
   "outputs": [],
   "source": [
    "model = tf.keras.models.load_model('model_simple', custom_objects={'foo': sparse_categorical_crossentropy_with_logits})"
   ]
  },
  {
   "cell_type": "code",
   "execution_count": null,
   "metadata": {},
   "outputs": [],
   "source": [
    "HEIGHT = 75\n",
    "WIDTH = 75"
   ]
  },
  {
   "cell_type": "code",
   "execution_count": null,
   "metadata": {},
   "outputs": [],
   "source": [
    "labels = ['point_foreward', 'point_up']\n",
    "test_label_ind = 1\n",
    "# test_dir = 'images/train/{}'.format(labels[test_label_ind])\n",
    "test_dir = os.path.join('frames', 'curl', )\n",
    "preds = []\n",
    "# test_dir = os.path.join('..', 'detect_classify_images', 'failed', 'point_foreward')\n",
    "files = os.listdir(test_dir)\n",
    "# print(files)\n",
    "num_correct = 0\n",
    "for f in files:\n",
    "    img = cv2.imread(os.path.join(test_dir, f))\n",
    "    img = cv2.resize(img, (HEIGHT, WIDTH))\n",
    "    \n",
    "    batch = np.expand_dims(img, axis=0).astype(np.float32)\n",
    "    res = model.predict(batch)\n",
    "    pred_ind = np.argmax(res[0])\n",
    "    label = labels[pred_ind]\n",
    "    preds.append(pred_ind)\n",
    "\n",
    "    if pred_ind == test_label_ind:\n",
    "        num_correct += 1\n",
    "    \n",
    "    print('prediction: {} | actual: {}'.format(label, labels[test_label_ind]))\n",
    "#     cv2.putText(img, label, (0, 20), cv2.FONT_HERSHEY_COMPLEX, 0.5, (0,0,0), 1)\n",
    "#     cv2.imshow('img', img)\n",
    "#     while True:\n",
    "#         k = cv2.waitKey(30) & 0xff\n",
    "#         if k == ord('n'):\n",
    "#             break\n",
    "#         elif k == ord('q'):\n",
    "#             files = []\n",
    "\n",
    "cv2.destroyAllWindows()\n",
    "\n",
    "print('Total correct: {} => accuracy of: {}'.format(num_correct, num_correct / len(files)))"
   ]
  },
  {
   "cell_type": "code",
   "execution_count": null,
   "metadata": {},
   "outputs": [],
   "source": [
    "gts = np.array([0 for i in range(len(files))]).astype(np.float64)\n",
    "preds = np.array(preds).astype(np.float64)\n",
    "cat_acc = tf.keras.metrics.categorical_accuracy(gts, preds)\n",
    "bin_acc = tf.keras.metrics.binary_accuracy(gts, preds)\n",
    "spar_acc = tf.keras.metrics.sparse_categorical_accuracy(gts, preds)"
   ]
  },
  {
   "cell_type": "code",
   "execution_count": null,
   "metadata": {},
   "outputs": [],
   "source": []
  }
 ],
 "metadata": {
  "kernelspec": {
   "display_name": "Python 3",
   "language": "python",
   "name": "python3"
  },
  "language_info": {
   "codemirror_mode": {
    "name": "ipython",
    "version": 3
   },
   "file_extension": ".py",
   "mimetype": "text/x-python",
   "name": "python",
   "nbconvert_exporter": "python",
   "pygments_lexer": "ipython3",
   "version": "3.7.4"
  }
 },
 "nbformat": 4,
 "nbformat_minor": 2
}
