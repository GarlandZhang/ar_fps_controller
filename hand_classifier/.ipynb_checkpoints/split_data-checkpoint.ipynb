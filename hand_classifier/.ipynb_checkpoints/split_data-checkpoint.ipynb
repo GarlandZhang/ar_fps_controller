{
 "cells": [
  {
   "cell_type": "code",
   "execution_count": null,
   "metadata": {},
   "outputs": [],
   "source": [
    "import os\n",
    "import numpy as np\n",
    "import argparse\n",
    "from utils import *"
   ]
  },
  {
   "cell_type": "code",
   "execution_count": null,
   "metadata": {},
   "outputs": [],
   "source": [
    "def check_and_create_dir(direc):\n",
    "  if not os.path.exists(direc):\n",
    "    os.makedirs(direc)\n",
    "\n",
    "def move_files(files, src, target):\n",
    "  for f in files:\n",
    "    os.rename(os.path.join(src, f), os.path.join(target, f))\n",
    "\n",
    "def split_files(target_dir, target_size, files, src_dir):\n",
    "  files_inds = np.random.choice(files.size, target_size, replace=False)\n",
    "  target_files = files[files_inds]\n",
    "  check_and_create_dir(target_dir)\n",
    "  move_files(target_files, src_dir, target_dir)\n",
    "\n",
    "  return np.delete(files, files_inds)"
   ]
  },
  {
   "cell_type": "code",
   "execution_count": null,
   "metadata": {},
   "outputs": [],
   "source": [
    "set_dirs = ['train', 'test', 'validation']\n",
    "output_dir = 'E:/ar_fps/data_collection/datasets_single_perspective'\n",
    "DIR_NAME = os.path.join('E:/ar_fps/data_collection')\n",
    "class_dirs = get_class_labels()\n",
    "TRAIN_PROP = 0.8\n",
    "VALID_PROP = 0.1\n",
    "TEST_PROP = 0.1"
   ]
  },
  {
   "cell_type": "code",
   "execution_count": null,
   "metadata": {},
   "outputs": [],
   "source": [
    "for class_dir in class_dirs:\n",
    "    # remove dirs\n",
    "    class_dir = os.path.join(DIR_NAME, class_dir)\n",
    "    files = os.listdir(class_dir)\n",
    "    for set_name in set_dirs:\n",
    "        if set_name in files:\n",
    "            files.remove(set_name)\n",
    "    files = np.array(files)\n",
    "\n",
    "    total = len(files)\n",
    "    cur = total\n",
    "    print(\"Total: {}\".format(cur))\n",
    "\n",
    "    files = split_files(target_dir=os.path.join(class_dir, 'train'), target_size=int(TRAIN_PROP * total), files=files, src_dir=class_dir)\n",
    "\n",
    "    print(\"Train: {}\".format(cur - len(files)))\n",
    "    cur = len(files)\n",
    "\n",
    "    files = split_files(target_dir=os.path.join(class_dir, 'validation'), target_size=int(VALID_PROP * total), files=files, src_dir=class_dir)\n",
    "\n",
    "    print(\"Valid: {}\".format(cur - len(files)))\n",
    "    cur = len(files)\n",
    "\n",
    "    print(\"Test: {}\".format(cur))\n",
    "\n",
    "    files = split_files(target_dir=os.path.join(class_dir, 'test'), target_size=cur, files=files, src_dir=class_dir)\n",
    "    "
   ]
  },
  {
   "cell_type": "code",
   "execution_count": null,
   "metadata": {
    "scrolled": true
   },
   "outputs": [],
   "source": [
    "# move class set directories to the global set directories\n",
    "\n",
    "for class_dir in class_dirs:\n",
    "    for set_dir in set_dirs:\n",
    "        full_set_dir = os.path.join(DIR_NAME, class_dir, set_dir)\n",
    "#         print('set directory: {}'.format(full_set_dir))\n",
    "        output_set_dir = os.path.join(output_dir, set_dir)\n",
    "#         print('output set directory: {}'.format(output_set_dir))\n",
    "        output_class_dir = os.path.join(output_set_dir, class_dir)\n",
    "#         print('output_class directory: {}'.format(output_class_dir))\n",
    "        print('{} => {}'.format(full_set_dir, output_class_dir))\n",
    "        files = os.listdir(full_set_dir)\n",
    "        for f in files:\n",
    "            os.rename(os.path.join(full_set_dir, f), os.path.join(output_class_dir, f))\n",
    "#         os.rename(full_set_dir, output_class_dir)\n",
    "    "
   ]
  },
  {
   "cell_type": "code",
   "execution_count": null,
   "metadata": {},
   "outputs": [],
   "source": [
    "# balance data\n",
    "output_dir = 'E:/ar_fps/data_collection/datasets_single_perspective'\n",
    "set_names = ['train', 'validation']\n",
    "for set_name in set_names:\n",
    "    set_dir = os.path.join(output_dir, set_name)\n",
    "\n",
    "    classes = os.listdir(set_dir)\n",
    "\n",
    "    # find min number of images\n",
    "    min_amount = None\n",
    "    for class_name in classes:\n",
    "        files = os.listdir(os.path.join(set_dir, class_name))\n",
    "        if min_amount is None or len(files) < min_amount:\n",
    "            min_amount = len(files)\n",
    "\n",
    "    print(min_amount)\n",
    "\n",
    "\n",
    "    # update to balance by moving all images to test\n",
    "    for class_name in classes:\n",
    "        output_test_dir = os.path.join(output_dir, 'test', class_name)\n",
    "        cur_dir = os.path.join(set_dir, class_name)\n",
    "        files = np.array(os.listdir(cur_dir))\n",
    "        if len(files) > min_amount:\n",
    "            diff = len(files) - min_amount\n",
    "            files_inds = np.random.choice(files.size, diff, replace=False)\n",
    "            target_files = files[files_inds]\n",
    "    #         print('{} => {}'.format(cur_dir, output_test_dir))\n",
    "            move_files(target_files, cur_dir, output_test_dir)"
   ]
  },
  {
   "cell_type": "code",
   "execution_count": null,
   "metadata": {},
   "outputs": [],
   "source": [
    "# purge of a certain set\n",
    "purge_set_num = 2\n",
    "dataset_dir = 'E:/ar_fps/data_collection/datasets_single_perspective'\n",
    "for set_name in os.listdir(dataset_dir):\n",
    "    set_dir = os.path.join(dataset_dir, set_name)\n",
    "    for class_name in os.listdir(set_dir):\n",
    "        class_dir = os.path.join(set_dir, class_name)\n",
    "        for file in os.listdir(class_dir):\n",
    "            if \"set_2\" in file:\n",
    "                os.remove(os.path.join(class_dir, file))\n",
    "#                   print(\"Rmemove: {}\".format(os.path.join(class_dir, file)))"
   ]
  },
  {
   "cell_type": "code",
   "execution_count": null,
   "metadata": {},
   "outputs": [],
   "source": []
  }
 ],
 "metadata": {
  "kernelspec": {
   "display_name": "'Python Interactive'",
   "language": "python",
   "name": "b1f5ecc2-9402-4694-868a-a87391986ff5"
  },
  "language_info": {
   "codemirror_mode": {
    "name": "ipython",
    "version": 3
   },
   "file_extension": ".py",
   "mimetype": "text/x-python",
   "name": "python",
   "nbconvert_exporter": "python",
   "pygments_lexer": "ipython3",
   "version": "3.6.8"
  }
 },
 "nbformat": 4,
 "nbformat_minor": 2
}
