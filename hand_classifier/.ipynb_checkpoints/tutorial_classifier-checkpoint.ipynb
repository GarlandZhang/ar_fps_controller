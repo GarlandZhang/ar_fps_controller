{
 "cells": [
  {
   "cell_type": "code",
   "execution_count": 1,
   "metadata": {},
   "outputs": [],
   "source": [
    "import tensorflow as tf\n",
    "%load_ext tensorboard.notebook\n",
    "from tensorflow.keras.models import Sequential\n",
    "from tensorflow.keras.layers import Dense, Conv2D, Flatten, Dropout, MaxPooling2D, Softmax, BatchNormalization, Activation\n",
    "from tensorflow.keras.preprocessing.image import ImageDataGenerator"
   ]
  },
  {
   "cell_type": "code",
   "execution_count": 2,
   "metadata": {},
   "outputs": [],
   "source": [
    "import os\n",
    "import numpy as np\n",
    "import matplotlib.pyplot as plt\n",
    "import cv2\n",
    "import math\n",
    "import datetime\n",
    "from utils import *"
   ]
  },
  {
   "cell_type": "code",
   "execution_count": 3,
   "metadata": {},
   "outputs": [
    {
     "ename": "NameError",
     "evalue": "name 'class_labels' is not defined",
     "output_type": "error",
     "traceback": [
      "\u001b[1;31m---------------------------------------------------------------------------\u001b[0m",
      "\u001b[1;31mNameError\u001b[0m                                 Traceback (most recent call last)",
      "\u001b[1;32m<ipython-input-3-e25d69e11117>\u001b[0m in \u001b[0;36m<module>\u001b[1;34m\u001b[0m\n\u001b[0;32m      3\u001b[0m \u001b[0mtest_dir\u001b[0m \u001b[1;33m=\u001b[0m \u001b[0mos\u001b[0m\u001b[1;33m.\u001b[0m\u001b[0mpath\u001b[0m\u001b[1;33m.\u001b[0m\u001b[0mjoin\u001b[0m\u001b[1;33m(\u001b[0m\u001b[1;34m'images'\u001b[0m\u001b[1;33m,\u001b[0m \u001b[1;34m'test'\u001b[0m\u001b[1;33m)\u001b[0m\u001b[1;33m\u001b[0m\u001b[1;33m\u001b[0m\u001b[0m\n\u001b[0;32m      4\u001b[0m \u001b[1;33m\u001b[0m\u001b[0m\n\u001b[1;32m----> 5\u001b[1;33m \u001b[0mclass_names\u001b[0m \u001b[1;33m=\u001b[0m \u001b[0mclass_labels\u001b[0m\u001b[1;33m(\u001b[0m\u001b[1;33m)\u001b[0m \u001b[1;31m# in the prediction output, the order is point_foreward (0), point_up (1), curl (2)\u001b[0m\u001b[1;33m\u001b[0m\u001b[1;33m\u001b[0m\u001b[0m\n\u001b[0m",
      "\u001b[1;31mNameError\u001b[0m: name 'class_labels' is not defined"
     ]
    }
   ],
   "source": [
    "train_dir = os.path.join('images', 'train')\n",
    "valid_dir = os.path.join('images', 'validation')\n",
    "test_dir = os.path.join('images', 'test')\n",
    "\n",
    "class_names = get_class_labels() # in the prediction output, the order is point_foreward (0), point_up (1), curl (2)"
   ]
  },
  {
   "cell_type": "code",
   "execution_count": null,
   "metadata": {},
   "outputs": [],
   "source": [
    "HEIGHT=75\n",
    "WIDTH=75"
   ]
  },
  {
   "cell_type": "code",
   "execution_count": null,
   "metadata": {},
   "outputs": [],
   "source": [
    "train_image_generator = ImageDataGenerator(rescale=1./255)\n",
    "train_data_gen = train_image_generator.flow_from_directory(\n",
    "    batch_size=128,\n",
    "    directory=train_dir,\n",
    "    shuffle=True,\n",
    "    target_size=(HEIGHT, WIDTH),\n",
    "    classes=class_names,\n",
    "    class_mode='sparse'\n",
    ")\n",
    "valid_image_generator = ImageDataGenerator(rescale=1./255)\n",
    "valid_data_gen = valid_image_generator.flow_from_directory(\n",
    "    batch_size=128,\n",
    "    directory=valid_dir,\n",
    "    shuffle=True,\n",
    "    target_size=(HEIGHT, WIDTH),\n",
    "    classes=class_names,\n",
    "    class_mode='sparse'\n",
    ")"
   ]
  },
  {
   "cell_type": "code",
   "execution_count": null,
   "metadata": {},
   "outputs": [],
   "source": [
    "# train_dir = os.path.join('..', 'detect_classify_images', 'failed')\n",
    "\n",
    "images = []\n",
    "labels = []\n",
    "for i, direc in enumerate(class_names):\n",
    "    train_class_dir = os.path.join(train_dir, direc)\n",
    "    files = os.listdir(train_class_dir)\n",
    "    for f in files:\n",
    "        image = cv2.imread(os.path.join(train_class_dir, f))\n",
    "        image = image / 255.0\n",
    "        image = cv2.resize(image, (HEIGHT, WIDTH)) \n",
    "        images.append(image)\n",
    "        labels.append(i)\n",
    "\n",
    "images = np.array(images)\n",
    "labels = np.array(labels)"
   ]
  },
  {
   "cell_type": "code",
   "execution_count": null,
   "metadata": {},
   "outputs": [],
   "source": [
    "# model = Sequential([\n",
    "#     Flatten(input_shape=(HEIGHT, WIDTH, 3)),\n",
    "#     Dense(128, activation='relu'),\n",
    "#     Dense(3, activation='softmax'),\n",
    "# ])\n",
    "\n",
    "model = Sequential([\n",
    "    # Layer 1\n",
    "    Conv2D(64, (5, 5), input_shape=(HEIGHT, WIDTH, 3)),\n",
    "    Activation('relu'),\n",
    "    MaxPooling2D(pool_size=(3, 3), strides=2),\n",
    "    \n",
    "    # Layer 2\n",
    "    Conv2D(64, (5, 5), padding='same'),\n",
    "    Activation('relu'),\n",
    "    MaxPooling2D(pool_size=(3, 3), strides=2),\n",
    "    \n",
    "    # Layer 3\n",
    "    Conv2D(128, (3, 3), padding='same'),\n",
    "    Activation('relu'),\n",
    "    MaxPooling2D(pool_size=(3, 3), strides=2),\n",
    "    \n",
    "    Flatten(),\n",
    "    Dense(512),\n",
    "    Activation('relu'),\n",
    "    Dense(3),\n",
    "    Softmax()\n",
    "])\n",
    "model.compile(optimizer='sgd',\n",
    "              loss=sparse_categorical_crossentropy_with_logits,\n",
    "              metrics=['accuracy'])\n",
    "\n",
    "# model = load_classifier_aug()"
   ]
  },
  {
   "cell_type": "code",
   "execution_count": null,
   "metadata": {
    "scrolled": true
   },
   "outputs": [],
   "source": [
    "history = model.fit_generator(\n",
    "    train_data_gen,\n",
    "    epochs=10,\n",
    "    validation_data=valid_data_gen,\n",
    "#     verbose=1\n",
    "#     callbacks=[tensorboard_callback]\n",
    ")\n",
    "# history = model.fit(images, labels, epochs=10)"
   ]
  },
  {
   "cell_type": "code",
   "execution_count": null,
   "metadata": {},
   "outputs": [],
   "source": [
    "correct = 0\n",
    "for i, image in enumerate(images):\n",
    "    batch = np.expand_dims(image, axis=0).astype(np.float32)\n",
    "    res = model.predict(batch)\n",
    "    prediction = np.argmax(res[0])\n",
    "    if prediction == labels[i]:\n",
    "        correct += 1\n",
    "    print('prediction: {} vs actual: {} | res: {} '.format(prediction, labels[i], res))\n",
    "print('correct: {} | num labels: {} => {}'.format(correct, len(labels), correct / len(labels)))"
   ]
  },
  {
   "cell_type": "code",
   "execution_count": null,
   "metadata": {},
   "outputs": [],
   "source": [
    "# testing only passed this cell\n",
    "\n",
    "test_images = []\n",
    "test_labels = []\n",
    "for i, direc in enumerate(class_names):\n",
    "    test_class_dir = os.path.join(test_dir, direc)\n",
    "    files = os.listdir(test_class_dir)\n",
    "    for f in files:\n",
    "        image = cv2.imread(os.path.join(test_class_dir, f))\n",
    "        image = image / 255.0\n",
    "        image = cv2.resize(image, (HEIGHT, WIDTH)) \n",
    "        test_images.append(image)\n",
    "        test_labels.append(i)\n",
    "\n",
    "test_images = np.array(test_images)\n",
    "test_labels = np.array(test_labels)"
   ]
  },
  {
   "cell_type": "code",
   "execution_count": null,
   "metadata": {},
   "outputs": [],
   "source": [
    "correct = 0\n",
    "for i, image in enumerate(test_images):\n",
    "    batch = np.expand_dims(image, axis=0).astype(np.float32)\n",
    "    res = model.predict(batch)\n",
    "    prediction = np.argmax(res[0])\n",
    "    if prediction == test_labels[i]:\n",
    "        correct += 1\n",
    "    print('prediction: {} vs actual: {}'.format(prediction, test_labels[i]))\n",
    "print('correct: {} | num labels: {} => {}'.format(correct, len(test_labels), correct / len(test_labels)))"
   ]
  },
  {
   "cell_type": "code",
   "execution_count": null,
   "metadata": {},
   "outputs": [],
   "source": [
    "model.save('model_simple_data_aug2')\n",
    "class_labels = get_class_labels()"
   ]
  },
  {
   "cell_type": "code",
   "execution_count": null,
   "metadata": {},
   "outputs": [],
   "source": [
    "# live demo\n",
    "cap = cv2.VideoCapture(0)\n",
    "while True:\n",
    "    ret, frame = cap.read()\n",
    "    \n",
    "    crop = frame[200:325, 200:325].copy()\n",
    "    cv2.rectangle(frame, (200, 200), (400, 400), (0, 255, 0), 3, 1)\n",
    "    img = cv2.resize(crop, (75, 75))\n",
    "    batch = np.expand_dims(img, axis=0).astype(np.float32)\n",
    "    res = model.predict(batch)\n",
    "    name = class_labels[np.argmax(res[0])]\n",
    "#     print(name)\n",
    "    \n",
    "    cv2.putText(frame, \"{} | {}\".format(name, res), (40, 40), cv2.FONT_HERSHEY_COMPLEX, 0.5, (0, 255, 0), 1)\n",
    "    cv2.imshow('frame', frame)\n",
    "    \n",
    "    if cv2.waitKey(30) & 0xFF == ord('q'):\n",
    "        break\n",
    "    \n",
    "cap.release()\n",
    "cv2.destroyAllWindows()"
   ]
  },
  {
   "cell_type": "code",
   "execution_count": null,
   "metadata": {},
   "outputs": [],
   "source": []
  }
 ],
 "metadata": {
  "kernelspec": {
   "display_name": "'Python Interactive'",
   "language": "python",
   "name": "b1f5ecc2-9402-4694-868a-a87391986ff5"
  },
  "language_info": {
   "codemirror_mode": {
    "name": "ipython",
    "version": 3
   },
   "file_extension": ".py",
   "mimetype": "text/x-python",
   "name": "python",
   "nbconvert_exporter": "python",
   "pygments_lexer": "ipython3",
   "version": "3.6.8"
  }
 },
 "nbformat": 4,
 "nbformat_minor": 2
}
