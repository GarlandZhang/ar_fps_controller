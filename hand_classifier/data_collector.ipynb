{
 "cells": [
  {
   "cell_type": "code",
   "execution_count": 69,
   "metadata": {},
   "outputs": [],
   "source": [
    "import cv2\n",
    "import os\n",
    "import copy\n",
    "import xml.etree.ElementTree as ET"
   ]
  },
  {
   "cell_type": "code",
   "execution_count": null,
   "metadata": {},
   "outputs": [],
   "source": [
    "output_dir = 'E:/ar_fps/frames'\n",
    "\n",
    "cap = cv2.VideoCapture(0)\n",
    "i = 0\n",
    "\n",
    "init_box = None\n",
    "tracker = cv2.TrackerKCF_create()\n",
    "\n",
    "x_start = 200\n",
    "y_start = 200\n",
    "width = 125\n",
    "height = 125\n",
    "\n",
    "class_direc = output_dir\n",
    "tracked_boxes = []\n",
    "\n",
    "while True:\n",
    "    _, frame = cap.read()\n",
    "    orig = frame.copy()\n",
    "    \n",
    "    if box:\n",
    "        ret, box = tracker.update(frame)\n",
    "\n",
    "        if ret:\n",
    "            x, y, w, h = map(int, box)\n",
    "            cv2.rectangle(frame, (x, y), (x + w, y + h), (0, 255, 0), 2)\n",
    "            output_file = os.path.join(class_direc, 'img{}.jpg'.format(i))\n",
    "            tracked_boxes.append([output_file, box])\n",
    "            cv2.imwrite(output_file, orig)\n",
    "        else:\n",
    "            box = None\n",
    "    \n",
    "#         fps.update()\n",
    "#         fps.stop()\n",
    "        \n",
    "#         cv2.putText(frame, \"fps: {}\".format(fps), (10, 20), cv2.FONT_HERSHEY_SIMPLEX, 0.6, (0, 0, 255), 2)\n",
    "    else:\n",
    "        cv2.rectangle(frame, (x_start, y_start), (x_start + width, y_start + height), (255, 0, 0), 2)\n",
    "\n",
    "    k = cv2.waitKey(30) & 0xff\n",
    "    \n",
    "    if k == ord('s'):\n",
    "        if box:\n",
    "            box = None\n",
    "        else:\n",
    "    #         init_box = cv2.selectROI('Frame', frame, fromCenter=False, showCrosshair=True)\n",
    "            box = (x_start, y_start, width, height)\n",
    "            tracker = cv2.TrackerKCF_create()\n",
    "            tracker.init(frame, box)\n",
    "    #         fps = FPS().start()\n",
    "    elif k == ord('1'): # point_foreward\n",
    "        class_direc = os.path.join(output_dir, 'point_foreward')\n",
    "        if not os.path.exists(class_direc):\n",
    "            os.makedirs(class_direc)\n",
    "        width = 75\n",
    "        height = 75\n",
    "    elif k == ord('2'): # point_up\n",
    "        class_direc = os.path.join(output_dir, 'point_up')\n",
    "        if not os.path.exists(class_direc):\n",
    "            os.makedirs(class_direc)\n",
    "        width = 75\n",
    "        height = 125\n",
    "    elif k == ord('3'): # curl\n",
    "        class_direc = os.path.join(output_dir, 'curl')\n",
    "        width = 75\n",
    "        height = 75\n",
    "        if not os.path.exists(class_direc):\n",
    "            os.makedirs(class_direc)\n",
    "    elif k == ord('q'):\n",
    "        break\n",
    "        \n",
    "    cv2.imshow('img', frame)\n",
    "    \n",
    "    i += 1\n",
    "\n",
    "cap.release()\n",
    "cv2.destroyAllWindows()"
   ]
  },
  {
   "cell_type": "code",
   "execution_count": 66,
   "metadata": {},
   "outputs": [],
   "source": [
    "copy_boxes = copy.deepcopy(tracked_boxes)"
   ]
  },
  {
   "cell_type": "code",
   "execution_count": 67,
   "metadata": {},
   "outputs": [],
   "source": [
    "# create the file structure\n",
    "def to_annotate(values):\n",
    "    annot = ET.Element('annotation')\n",
    "    \n",
    "    filename = ET.SubElement(annot, 'filename')\n",
    "    filename.text = values[0]\n",
    "    \n",
    "    size = ET.SubElement(annot, 'size')\n",
    "    width = ET.SubElement(size, 'width')\n",
    "    width.text = values[1]\n",
    "    height = ET.SubElement(size, 'height')\n",
    "    height.text = values[2]\n",
    "    depth = ET.SubElement(size, 'depth')\n",
    "    depth.text = '3'\n",
    "    \n",
    "    obj = ET.SubElement(annot, 'object')\n",
    "    class_name = ET.SubElement(obj, 'class_name')\n",
    "    class_name.text = values[3]\n",
    "    name = ET.SubElement(obj, 'name')\n",
    "    name.text = 'hand'\n",
    "    box = ET.SubElement(obj, 'bndbox')\n",
    "    xmin = ET.SubElement(box, 'xmin')\n",
    "    xmin.text = values[4]\n",
    "    ymin = ET.SubElement(box, 'ymin')\n",
    "    ymin.text = values[5]\n",
    "    xmax = ET.SubElement(box, 'xmax')\n",
    "    xmax.text = values[6]\n",
    "    ymax = ET.SubElement(box, 'ymax')\n",
    "    ymax.text = values[7]\n",
    "    \n",
    "    return annot"
   ]
  },
  {
   "cell_type": "code",
   "execution_count": 68,
   "metadata": {},
   "outputs": [],
   "source": [
    "for tracked_box in tracked_boxes:\n",
    "    path, box = tracked_box\n",
    "    parent_dirs = os.path.dirname(path)\n",
    "    xmin, ymin, box_w, box_h = map(int, box)\n",
    "    xmax = xmin + box_w\n",
    "    ymax = ymin + box_h\n",
    "    xmin = str(xmin)\n",
    "    ymin = str(ymin)\n",
    "    xmax = str(xmax)\n",
    "    ymax = str(ymax)\n",
    "    class_name = os.path.basename(parent_dirs)\n",
    "    image_name = os.path.basename(path)\n",
    "    file_name = image_name[:-3] + 'xml'\n",
    "    annotation_parent_dirs = parent_dirs + '_annotations'\n",
    "    if not os.path.exists(annotation_parent_dirs):\n",
    "        os.makedirs(annotation_parent_dirs)\n",
    "    output_path = os.path.join(annotation_parent_dirs, file_name)\n",
    "    width = '640'\n",
    "    height = '480'\n",
    "\n",
    "    values = [image_name, width, height, class_name, xmin, ymin, xmax, ymax]\n",
    "#     print(values)\n",
    "    annot = to_annotate(values)\n",
    "    data = ET.tostring(annot).decode('utf-8')\n",
    "    with open(output_path, 'w') as f:\n",
    "        f.write(data)"
   ]
  },
  {
   "cell_type": "code",
   "execution_count": 46,
   "metadata": {},
   "outputs": [
    {
     "data": {
      "text/plain": [
       "<Element 'annotation' at 0x0000016558496228>"
      ]
     },
     "execution_count": 46,
     "metadata": {},
     "output_type": "execute_result"
    }
   ],
   "source": []
  },
  {
   "cell_type": "code",
   "execution_count": null,
   "metadata": {},
   "outputs": [],
   "source": []
  }
 ],
 "metadata": {
  "kernelspec": {
   "display_name": "Python 3",
   "language": "python",
   "name": "python3"
  },
  "language_info": {
   "codemirror_mode": {
    "name": "ipython",
    "version": 3
   },
   "file_extension": ".py",
   "mimetype": "text/x-python",
   "name": "python",
   "nbconvert_exporter": "python",
   "pygments_lexer": "ipython3",
   "version": "3.7.4"
  }
 },
 "nbformat": 4,
 "nbformat_minor": 2
}
