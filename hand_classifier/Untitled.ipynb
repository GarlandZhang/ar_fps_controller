{
 "cells": [
  {
   "cell_type": "code",
   "execution_count": 1,
   "metadata": {},
   "outputs": [],
   "source": [
    "import tensorflow as tf\n",
    "%load_ext tensorboard.notebook\n",
    "from tensorflow.keras.models import Sequential\n",
    "from tensorflow.keras.layers import Dense, Conv2D, Flatten, Dropout, MaxPooling2D, Softmax, BatchNormalization, Activation\n",
    "from tensorflow.keras.preprocessing.image import ImageDataGenerator"
   ]
  },
  {
   "cell_type": "code",
   "execution_count": 2,
   "metadata": {},
   "outputs": [],
   "source": [
    "import os\n",
    "import numpy as np\n",
    "import matplotlib.pyplot as plt\n",
    "import cv2\n",
    "import math\n",
    "import datetime\n",
    "from utils import *"
   ]
  },
  {
   "cell_type": "code",
   "execution_count": 3,
   "metadata": {},
   "outputs": [],
   "source": [
    "train_dir = os.path.join('images', 'train')\n",
    "valid_dir = os.path.join('images', 'validation')\n",
    "test_dir = os.path.join('images', 'test')\n",
    "\n",
    "class_names = ['point_foreward', 'curl'] # in the prediction output, the order is point_foreward (0), point_up (1), curl (2)"
   ]
  },
  {
   "cell_type": "code",
   "execution_count": 4,
   "metadata": {},
   "outputs": [],
   "source": [
    "batch_size = 16\n",
    "epochs = 10\n",
    "HEIGHT=75\n",
    "WIDTH=75\n"
   ]
  },
  {
   "cell_type": "code",
   "execution_count": 5,
   "metadata": {},
   "outputs": [
    {
     "name": "stdout",
     "output_type": "stream",
     "text": [
      "Found 1373 images belonging to 2 classes.\n",
      "Found 155 images belonging to 2 classes.\n"
     ]
    }
   ],
   "source": [
    "train_image_generator = ImageDataGenerator(\n",
    "    rescale=1./255,\n",
    "    rotation_range=30,\n",
    "    width_shift_range=.15,\n",
    "    height_shift_range=.15,\n",
    "#     horizontal_flip=True,\n",
    "    zoom_range=0.5\n",
    ")\n",
    "train_data_gen = train_image_generator.flow_from_directory(\n",
    "    batch_size=128,\n",
    "    directory=train_dir,\n",
    "    shuffle=True,\n",
    "    target_size=(HEIGHT, WIDTH),\n",
    "    classes=class_names,\n",
    "    class_mode='binary'\n",
    ")\n",
    "valid_image_generator = ImageDataGenerator(\n",
    "    rescale=1./255,\n",
    ")\n",
    "valid_data_gen = valid_image_generator.flow_from_directory(\n",
    "    batch_size=128,\n",
    "    directory=valid_dir,\n",
    "    shuffle=True,\n",
    "    target_size=(HEIGHT, WIDTH),\n",
    "    classes=class_names,\n",
    "    class_mode='binary'\n",
    ")"
   ]
  },
  {
   "cell_type": "code",
   "execution_count": 6,
   "metadata": {},
   "outputs": [],
   "source": [
    "# train_dir = os.path.join('..', 'detect_classify_images', 'failed')\n",
    "\n",
    "total_train = 0\n",
    "total_val = 0\n",
    "images = []\n",
    "labels = []\n",
    "for i, direc in enumerate(class_names):\n",
    "    train_class_dir = os.path.join(train_dir, direc)\n",
    "    files = os.listdir(train_class_dir)\n",
    "    total_train += len(files)\n",
    "    for f in files:\n",
    "        image = cv2.imread(os.path.join(train_class_dir, f))\n",
    "        image = image / 255.0\n",
    "        image = cv2.resize(image, (HEIGHT, WIDTH)) \n",
    "        images.append(image)\n",
    "        labels.append(i)\n",
    "        \n",
    "    valid_class_dir = os.path.join(valid_dir, direc)\n",
    "    files = os.listdir(valid_class_dir)\n",
    "    total_val += len(files)\n",
    "        \n",
    "images = np.array(images)\n",
    "labels = np.array(labels)"
   ]
  },
  {
   "cell_type": "code",
   "execution_count": 7,
   "metadata": {},
   "outputs": [
    {
     "name": "stdout",
     "output_type": "stream",
     "text": [
      "WARNING:tensorflow:From C:\\Users\\GZhang\\AppData\\Local\\Programs\\Python\\Python36\\lib\\site-packages\\tensorflow\\python\\ops\\resource_variable_ops.py:435: colocate_with (from tensorflow.python.framework.ops) is deprecated and will be removed in a future version.\n",
      "Instructions for updating:\n",
      "Colocations handled automatically by placer.\n",
      "WARNING:tensorflow:From C:\\Users\\GZhang\\AppData\\Local\\Programs\\Python\\Python36\\lib\\site-packages\\tensorflow\\python\\keras\\layers\\core.py:143: calling dropout (from tensorflow.python.ops.nn_ops) with keep_prob is deprecated and will be removed in a future version.\n",
      "Instructions for updating:\n",
      "Please use `rate` instead of `keep_prob`. Rate should be set to `rate = 1 - keep_prob`.\n"
     ]
    }
   ],
   "source": [
    "model = Sequential([\n",
    "    Conv2D(16, 3, padding='same', activation='relu', \n",
    "           input_shape=(HEIGHT, WIDTH ,3)),\n",
    "    MaxPooling2D(),\n",
    "    Dropout(0.2),\n",
    "    Conv2D(32, 3, padding='same', activation='relu'),\n",
    "    MaxPooling2D(),\n",
    "    Conv2D(64, 3, padding='same', activation='relu'),\n",
    "    MaxPooling2D(),\n",
    "    Dropout(0.2),\n",
    "    Flatten(),\n",
    "    Dense(512, activation='relu'),\n",
    "    Dense(2)\n",
    "])"
   ]
  },
  {
   "cell_type": "code",
   "execution_count": 8,
   "metadata": {},
   "outputs": [
    {
     "name": "stdout",
     "output_type": "stream",
     "text": [
      "WARNING:tensorflow:From C:\\Users\\GZhang\\AppData\\Local\\Programs\\Python\\Python36\\lib\\site-packages\\tensorflow\\python\\keras\\utils\\losses_utils.py:170: to_float (from tensorflow.python.ops.math_ops) is deprecated and will be removed in a future version.\n",
      "Instructions for updating:\n",
      "Use tf.cast instead.\n"
     ]
    }
   ],
   "source": [
    "opt = tf.keras.optimizers.Adam()\n",
    "model.compile(optimizer=opt,\n",
    "              loss=tf.keras.losses.BinaryCrossentropy(from_logits=True),\n",
    "              metrics=['accuracy'])"
   ]
  },
  {
   "cell_type": "code",
   "execution_count": 9,
   "metadata": {},
   "outputs": [
    {
     "name": "stdout",
     "output_type": "stream",
     "text": [
      "WARNING:tensorflow:From C:\\Users\\GZhang\\AppData\\Local\\Programs\\Python\\Python36\\lib\\site-packages\\tensorflow\\python\\ops\\math_ops.py:3066: to_int32 (from tensorflow.python.ops.math_ops) is deprecated and will be removed in a future version.\n",
      "Instructions for updating:\n",
      "Use tf.cast instead.\n",
      "Epoch 1/10\n",
      "2/2 [==============================] - 1s 297ms/step - loss: 0.6662 - acc: 0.7161\n",
      "11/11 [==============================] - 7s 615ms/step - loss: 0.7037 - acc: 0.1719 - val_loss: 0.6662 - val_acc: 0.7161\n",
      "Epoch 2/10\n",
      "2/2 [==============================] - 0s 119ms/step - loss: 0.4907 - acc: 0.8903\n",
      "11/11 [==============================] - 5s 447ms/step - loss: 0.6394 - acc: 0.5200 - val_loss: 0.4907 - val_acc: 0.8903\n",
      "Epoch 3/10\n",
      "2/2 [==============================] - 0s 81ms/step - loss: 0.3514 - acc: 0.7871\n",
      "11/11 [==============================] - 5s 462ms/step - loss: 0.5292 - acc: 0.5441 - val_loss: 0.3514 - val_acc: 0.7871\n",
      "Epoch 4/10\n",
      "2/2 [==============================] - 0s 125ms/step - loss: 0.3348 - acc: 0.6065\n",
      "11/11 [==============================] - 5s 467ms/step - loss: 0.5159 - acc: 0.5382 - val_loss: 0.3348 - val_acc: 0.6065\n",
      "Epoch 5/10\n",
      "2/2 [==============================] - 0s 193ms/step - loss: 0.3034 - acc: 0.6000\n",
      "11/11 [==============================] - 5s 490ms/step - loss: 0.4807 - acc: 0.4945 - val_loss: 0.3034 - val_acc: 0.6000\n",
      "Epoch 6/10\n",
      "2/2 [==============================] - 0s 120ms/step - loss: 0.2716 - acc: 0.6000\n",
      "11/11 [==============================] - 6s 524ms/step - loss: 0.4113 - acc: 0.5222 - val_loss: 0.2716 - val_acc: 0.6000\n",
      "Epoch 7/10\n",
      "2/2 [==============================] - 0s 125ms/step - loss: 0.2749 - acc: 0.5742\n",
      "11/11 [==============================] - 8s 687ms/step - loss: 0.4432 - acc: 0.5477 - val_loss: 0.2749 - val_acc: 0.5742\n",
      "Epoch 8/10\n",
      "2/2 [==============================] - 0s 109ms/step - loss: 0.2453 - acc: 0.5742\n",
      "11/11 [==============================] - 7s 604ms/step - loss: 0.4123 - acc: 0.4523 - val_loss: 0.2453 - val_acc: 0.5742\n",
      "Epoch 9/10\n",
      "2/2 [==============================] - 0s 116ms/step - loss: 0.1930 - acc: 0.6645\n",
      "11/11 [==============================] - 6s 509ms/step - loss: 0.4031 - acc: 0.5426 - val_loss: 0.1930 - val_acc: 0.6645\n",
      "Epoch 10/10\n",
      "2/2 [==============================] - 0s 103ms/step - loss: 0.1660 - acc: 0.0452\n",
      "11/11 [==============================] - 6s 554ms/step - loss: 0.3636 - acc: 0.4690 - val_loss: 0.1660 - val_acc: 0.0452\n"
     ]
    }
   ],
   "source": [
    "history = model.fit_generator(\n",
    "    train_data_gen,\n",
    "    steps_per_epoch=total_train // batch_size,\n",
    "    epochs=epochs,\n",
    "    validation_data=valid_data_gen,\n",
    "    validation_steps=total_val // batch_size\n",
    ")\n",
    "# history = model.fit(images, labels, epochs=10)"
   ]
  },
  {
   "cell_type": "code",
   "execution_count": 10,
   "metadata": {},
   "outputs": [
    {
     "data": {
      "image/png": "[encoded data removed]",
      "text/plain": [
       "<Figure size 576x576 with 2 Axes>"
      ]
     },
     "metadata": {
      "needs_background": "light"
     },
     "output_type": "display_data"
    }
   ],
   "source": [
    "acc = history.history['acc']\n",
    "val_acc = history.history['val_acc']\n",
    "\n",
    "loss = history.history['loss']\n",
    "val_loss = history.history['val_loss']\n",
    "\n",
    "epochs_range = range(10)\n",
    "\n",
    "plt.figure(figsize=(8, 8))\n",
    "plt.subplot(1, 2, 1)\n",
    "plt.plot(epochs_range, acc, label='Training Accuracy')\n",
    "plt.plot(epochs_range, val_acc, label='Validation Accuracy')\n",
    "plt.legend(loc='lower right')\n",
    "plt.title('Training and Validation Accuracy')\n",
    "\n",
    "plt.subplot(1, 2, 2)\n",
    "plt.plot(epochs_range, loss, label='Training Loss')\n",
    "plt.plot(epochs_range, val_loss, label='Validation Loss')\n",
    "plt.legend(loc='upper right')\n",
    "plt.title('Training and Validation Loss')\n",
    "plt.show()"
   ]
  },
  {
   "cell_type": "code",
   "execution_count": null,
   "metadata": {},
   "outputs": [],
   "source": []
  }
 ],
 "metadata": {
  "kernelspec": {
   "display_name": "'Python Interactive'",
   "language": "python",
   "name": "b1f5ecc2-9402-4694-868a-a87391986ff5"
  },
  "language_info": {
   "codemirror_mode": {
    "name": "ipython",
    "version": 3
   },
   "file_extension": ".py",
   "mimetype": "text/x-python",
   "name": "python",
   "nbconvert_exporter": "python",
   "pygments_lexer": "ipython3",
   "version": "3.6.8"
  }
 },
 "nbformat": 4,
 "nbformat_minor": 2
}
