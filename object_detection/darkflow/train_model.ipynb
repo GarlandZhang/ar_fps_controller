{
 "cells": [
  {
   "cell_type": "code",
   "execution_count": null,
   "metadata": {
    "scrolled": false
   },
   "outputs": [],
   "source": [
    "%matplotlib inline\n",
    "import matplotlib.pyplot as plt\n",
    "import numpy as np\n",
    "\n",
    "from darkflow.net.build import TFNet\n",
    "import cv2\n",
    "import tensorflow as tf\n",
    "import os\n",
    "import math"
   ]
  },
  {
   "cell_type": "code",
   "execution_count": null,
   "metadata": {},
   "outputs": [],
   "source": [
    "# options2 = {\n",
    "#     'gpu': 1.0,\n",
    "#     'model': 'cfg/yolov2-tiny-hand.cfg',\n",
    "#     'load': 12040,\n",
    "#     'threshold': 0.3,\n",
    "#     'backup': 'ckpt/'\n",
    "# }\n",
    "# tfnet2 = TFNet(options2)"
   ]
  },
  {
   "cell_type": "code",
   "execution_count": null,
   "metadata": {},
   "outputs": [],
   "source": [
    "# tf.device('/gpu:0')"
   ]
  },
  {
   "cell_type": "code",
   "execution_count": null,
   "metadata": {},
   "outputs": [],
   "source": [
    "# tf.test.is_gpu_available(\n",
    "#     cuda_only=True, min_cuda_compute_capability=None\n",
    "# )"
   ]
  },
  {
   "cell_type": "code",
   "execution_count": null,
   "metadata": {},
   "outputs": [],
   "source": [
    "direc = 'train'\n",
    "images = 'new_data/egohands/{}'.format(direc)\n",
    "annotations = 'new_data/egohands/{}_annotations'.format(direc)"
   ]
  },
  {
   "cell_type": "code",
   "execution_count": null,
   "metadata": {
    "scrolled": false
   },
   "outputs": [],
   "source": [
    "options = {\n",
    "    'gpu': 1.0,\n",
    "    'model': 'cfg/yolov2-tiny-hand.cfg',\n",
    "    'load': 43800,\n",
    "#     'load': 'weights/yolov2-tiny.weights',\n",
    "    'save': 10000,\n",
    "    'batch': 10,\n",
    "    'summary': 'summaries',\n",
    "    'lr': 5e-6,\n",
    "    'epoch': 1000,\n",
    "    'train': True,\n",
    "    'annotation': annotations,\n",
    "    'dataset': images\n",
    "}\n",
    "tfnet = TFNet(options)\n",
    "tfnet.load_from_ckpt()"
   ]
  },
  {
   "cell_type": "code",
   "execution_count": null,
   "metadata": {},
   "outputs": [],
   "source": [
    "# img = cv2.imread('image.png', cv2.IMREAD_COLOR)\n",
    "# img = cv2.cvtColor(img, cv2.COLOR_BGR2RGB)\n",
    "# plt.imshow(img)\n",
    "# res = tfnet.return_predict(img)\n",
    "# # print(res)\n",
    "# for i in range(len(res)):\n",
    "#     if res[i]['confidence'] > 0.8:\n",
    "#         print(res[i]['label'])\n",
    "#         top_left = (res[i]['topleft']['x'], res[i]['topleft']['y'])\n",
    "#         bottom_right = (res[i]['bottomright']['x'], res[i]['bottomright']['y'])\n",
    "#         label = res[i]['label']\n",
    "\n",
    "#         img = cv2.rectangle(img, top_left, bottom_right, (0, 255, 0), 7)\n",
    "#         img = cv2.putText(img, label, top_left, cv2.FONT_HERSHEY_COMPLEX, 1, (0, 0, 0), 2)\n",
    "#         plt.imshow(img)\n",
    "\n",
    "# plt.show()"
   ]
  },
  {
   "cell_type": "code",
   "execution_count": null,
   "metadata": {
    "scrolled": true
   },
   "outputs": [],
   "source": [
    "tfnet.train()"
   ]
  },
  {
   "cell_type": "code",
   "execution_count": null,
   "metadata": {},
   "outputs": [],
   "source": []
  },
  {
   "cell_type": "code",
   "execution_count": null,
   "metadata": {},
   "outputs": [],
   "source": []
  }
 ],
 "metadata": {
  "kernelspec": {
   "display_name": "'Python Interactive'",
   "language": "python",
   "name": "b1f5ecc2-9402-4694-868a-a87391986ff5"
  },
  "language_info": {
   "codemirror_mode": {
    "name": "ipython",
    "version": 3
   },
   "file_extension": ".py",
   "mimetype": "text/x-python",
   "name": "python",
   "nbconvert_exporter": "python",
   "pygments_lexer": "ipython3",
   "version": "3.6.8"
  }
 },
 "nbformat": 4,
 "nbformat_minor": 2
}
