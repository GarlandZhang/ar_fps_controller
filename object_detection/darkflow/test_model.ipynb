{
 "cells": [
  {
   "cell_type": "code",
   "execution_count": 6,
   "metadata": {},
   "outputs": [],
   "source": [
    "%matplotlib inline\n",
    "import matplotlib.pyplot as plt\n",
    "import numpy as np\n",
    "\n",
    "from darkflow.net.build import TFNet\n",
    "import cv2\n",
    "import tensorflow as tf\n",
    "import os\n",
    "import math\n",
    "import time"
   ]
  },
  {
   "cell_type": "code",
   "execution_count": 2,
   "metadata": {},
   "outputs": [
    {
     "name": "stdout",
     "output_type": "stream",
     "text": [
      "Parsing cfg/yolov2-tiny-hand.cfg\n",
      "Loading None ...\n",
      "Finished in 0.0009982585906982422s\n",
      "\n",
      "Building net ...\n",
      "Source | Train? | Layer description                | Output size\n",
      "-------+--------+----------------------------------+---------------\n",
      "WARNING:tensorflow:From C:\\Users\\GZhang\\AppData\\Local\\Programs\\Python\\Python36\\lib\\site-packages\\tensorflow\\python\\framework\\op_def_library.py:263: colocate_with (from tensorflow.python.framework.ops) is deprecated and will be removed in a future version.\n",
      "Instructions for updating:\n",
      "Colocations handled automatically by placer.\n",
      "       |        | input                            | (?, 416, 416, 3)\n",
      " Init  |  Yep!  | conv 3x3p1_1  +bnorm  leaky      | (?, 416, 416, 16)\n",
      " Load  |  Yep!  | maxp 2x2p0_2                     | (?, 208, 208, 16)\n",
      " Init  |  Yep!  | conv 3x3p1_1  +bnorm  leaky      | (?, 208, 208, 32)\n",
      " Load  |  Yep!  | maxp 2x2p0_2                     | (?, 104, 104, 32)\n",
      " Init  |  Yep!  | conv 3x3p1_1  +bnorm  leaky      | (?, 104, 104, 64)\n",
      " Load  |  Yep!  | maxp 2x2p0_2                     | (?, 52, 52, 64)\n",
      " Init  |  Yep!  | conv 3x3p1_1  +bnorm  leaky      | (?, 52, 52, 128)\n",
      " Load  |  Yep!  | maxp 2x2p0_2                     | (?, 26, 26, 128)\n",
      " Init  |  Yep!  | conv 3x3p1_1  +bnorm  leaky      | (?, 26, 26, 256)\n",
      " Load  |  Yep!  | maxp 2x2p0_2                     | (?, 13, 13, 256)\n",
      " Init  |  Yep!  | conv 3x3p1_1  +bnorm  leaky      | (?, 13, 13, 512)\n",
      " Load  |  Yep!  | maxp 2x2p0_1                     | (?, 13, 13, 512)\n",
      " Init  |  Yep!  | conv 3x3p1_1  +bnorm  leaky      | (?, 13, 13, 1024)\n",
      " Init  |  Yep!  | conv 3x3p1_1  +bnorm  leaky      | (?, 13, 13, 512)\n",
      " Init  |  Yep!  | conv 1x1p0_1    linear           | (?, 13, 13, 30)\n",
      "-------+--------+----------------------------------+---------------\n",
      "GPU mode with 1.0 usage\n",
      "Loading from ckpt\\yolov2-tiny-hand-56800\n",
      "WARNING:tensorflow:From C:\\Users\\GZhang\\AppData\\Local\\Programs\\Python\\Python36\\lib\\site-packages\\tensorflow\\python\\training\\saver.py:1266: checkpoint_exists (from tensorflow.python.training.checkpoint_management) is deprecated and will be removed in a future version.\n",
      "Instructions for updating:\n",
      "Use standard file APIs to check for files with this prefix.\n",
      "INFO:tensorflow:Restoring parameters from ckpt\\yolov2-tiny-hand-56800\n",
      "Finished in 7.428876161575317s\n",
      "\n",
      "Loading from ckpt\\yolov2-tiny-hand-56800\n",
      "INFO:tensorflow:Restoring parameters from ckpt\\yolov2-tiny-hand-56800\n"
     ]
    }
   ],
   "source": [
    "options2 = {\n",
    "    'gpu': 1.0,\n",
    "    'model': 'cfg/yolov2-tiny-hand.cfg',\n",
    "    'load': 56800,\n",
    "    'threshold': 0.1,\n",
    "    'backup': 'ckpt'\n",
    "}\n",
    "tfnet2 = TFNet(options2)\n",
    "tfnet2.load_from_ckpt()"
   ]
  },
  {
   "cell_type": "code",
   "execution_count": 13,
   "metadata": {},
   "outputs": [
    {
     "name": "stdout",
     "output_type": "stream",
     "text": [
      "Image resolution: 480x640\n",
      "Num images found: 383 out of 383 => 1.0 in 0.07280516624450684 seconds\n",
      "Total time: 27.80911898612976\n",
      "Avg model time: 0.051503989466176646 or 19.415971662869207 fps\n",
      "Avg no write time: 0.06184831425041816 or 16.168589429149055 fps\n",
      "Avg time: 0.07260866576012992 or 13.772460759761119 fps\n"
     ]
    }
   ],
   "source": [
    "direc = os.path.join('new_data', 'egohands', 'validation')\n",
    "image_names = os.listdir(direc)\n",
    "image_annots = os.listdir(direc + '_annotations')\n",
    "\n",
    "\n",
    "imgs = []\n",
    "num_detected = 0\n",
    "\n",
    "orig_height = 416\n",
    "orig_width = 416\n",
    "\n",
    "model_time = 0\n",
    "total_time = 0\n",
    "total_no_write_time = 0\n",
    "\n",
    "for i, img_name in enumerate(image_names):\n",
    "    start_time = time.time()\n",
    "    img = cv2.imread(os.path.join(direc, img_name))\n",
    "    height, width, _ = img.shape\n",
    "    img = cv2.cvtColor(img, cv2.COLOR_BGR2RGB)\n",
    "    model_start_time = time.time()\n",
    "    results = tfnet2.return_predict(img)\n",
    "    model_end_time = time.time()\n",
    "    pred_time = model_end_time - model_start_time\n",
    "    model_time += pred_time\n",
    "    if len(results) != 0:\n",
    "        num_detected += 1\n",
    "        for res in results:\n",
    "#             print(res)\n",
    "            top_left = (res['topleft']['x'], res['topleft']['y'])\n",
    "            bottom_right = (res['bottomright']['x'], res['bottomright']['y'])\n",
    "            label = res['label']\n",
    "            confidence = res['confidence']\n",
    "            top_left_conf = (res['topleft']['x'], res['topleft']['y'] + 10)\n",
    "            img = cv2.rectangle(img, top_left, bottom_right, (0, 255, 0), 7)\n",
    "            img = cv2.putText(img, label, top_left, cv2.FONT_HERSHEY_COMPLEX, 1, (0, 0, 0), 2)\n",
    "            img = cv2.putText(img, str(confidence), top_left_conf, cv2.FONT_HERSHEY_COMPLEX, 1, (0, 0, 0), 2)\n",
    "    img = cv2.cvtColor(img, cv2.COLOR_RGB2BGR)\n",
    "    imgs.append(img)\n",
    "    no_write_end_time = time.time()\n",
    "    pred_time = no_write_end_time - start_time\n",
    "    total_no_write_time += pred_time\n",
    "    cv2.imwrite('output/img{}.jpg'.format(i), img)\n",
    "    end_time = time.time()\n",
    "    pred_time = end_time - start_time\n",
    "    total_time += pred_time\n",
    "\n",
    "\n",
    "num_images = len(image_names)\n",
    "height, width, channels = img.shape\n",
    "print('Image resolution: {}x{}'.format(height, width))\n",
    "print('Num images found: {} out of {} => {} in {} seconds'.format(num_detected, num_images, num_detected / num_images, pred_time))\n",
    "print('Total time: {}'.format(total_time))\n",
    "avg_model_time = model_time / num_images\n",
    "print('Avg model time: {} or {} fps'.format(avg_model_time, 1 / avg_model_time))\n",
    "avg_no_write_time = total_no_write_time / num_images\n",
    "print('Avg no write time: {} or {} fps'.format(avg_no_write_time, 1 / avg_no_write_time))\n",
    "avg_time = total_time / num_images\n",
    "print('Avg time: {} or {} fps'.format(avg_time, 1 / avg_time))"
   ]
  },
  {
   "cell_type": "code",
   "execution_count": 4,
   "metadata": {},
   "outputs": [],
   "source": [
    "  \n",
    "# plotImages(imgs)"
   ]
  }
 ],
 "metadata": {
  "kernelspec": {
   "display_name": "'Python Interactive'",
   "language": "python",
   "name": "b1f5ecc2-9402-4694-868a-a87391986ff5"
  },
  "language_info": {
   "codemirror_mode": {
    "name": "ipython",
    "version": 3
   },
   "file_extension": ".py",
   "mimetype": "text/x-python",
   "name": "python",
   "nbconvert_exporter": "python",
   "pygments_lexer": "ipython3",
   "version": "3.6.8"
  }
 },
 "nbformat": 4,
 "nbformat_minor": 2
}
