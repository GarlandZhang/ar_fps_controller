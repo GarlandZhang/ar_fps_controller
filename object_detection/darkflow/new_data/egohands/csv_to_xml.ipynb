{
 "cells": [
  {
   "cell_type": "code",
   "execution_count": 10,
   "metadata": {},
   "outputs": [],
   "source": [
    "# csv to xml\n",
    "import csv\n",
    "import cv2\n",
    "import numpy as np\n",
    "import os"
   ]
  },
  {
   "cell_type": "code",
   "execution_count": 11,
   "metadata": {},
   "outputs": [],
   "source": [
    "direc = 'test'\n",
    "csv_file_path = '{}_labels.csv'.format(direc)\n",
    "csv_file = open(csv_file_path, newline='')"
   ]
  },
  {
   "cell_type": "code",
   "execution_count": 12,
   "metadata": {},
   "outputs": [],
   "source": [
    "spam_reader = csv.reader(csv_file)"
   ]
  },
  {
   "cell_type": "code",
   "execution_count": 13,
   "metadata": {},
   "outputs": [],
   "source": [
    "properties = []\n",
    "rows = []\n",
    "for i, row in enumerate(spam_reader):\n",
    "    if i == 0:\n",
    "        properties = row\n",
    "    elif len(row) != 0:\n",
    "        rows.append(row)"
   ]
  },
  {
   "cell_type": "code",
   "execution_count": 14,
   "metadata": {},
   "outputs": [],
   "source": [
    "output_dir = '{}_annotations'.format(direc)"
   ]
  },
  {
   "cell_type": "code",
   "execution_count": 15,
   "metadata": {},
   "outputs": [],
   "source": [
    "import xml.etree.ElementTree as ET"
   ]
  },
  {
   "cell_type": "code",
   "execution_count": 16,
   "metadata": {},
   "outputs": [],
   "source": [
    "# create the file structure\n",
    "def to_annotate(values):\n",
    "    annot = ET.Element('annotation')\n",
    "    \n",
    "    filename = ET.SubElement(annot, 'filename')\n",
    "    filename.text = values[0]\n",
    "    \n",
    "    size = ET.SubElement(annot, 'size')\n",
    "    width = ET.SubElement(size, 'width')\n",
    "    width.text = values[1]\n",
    "    height = ET.SubElement(size, 'height')\n",
    "    height.text = values[2]\n",
    "    depth = ET.SubElement(size, 'depth')\n",
    "    depth.text = '3'\n",
    "    \n",
    "    obj = ET.SubElement(annot, 'object')\n",
    "    name = ET.SubElement(obj, 'name')\n",
    "    name.text = values[3]\n",
    "    box = ET.SubElement(obj, 'bndbox')\n",
    "    xmin = ET.SubElement(box, 'xmin')\n",
    "    xmin.text = values[4]\n",
    "    ymin = ET.SubElement(box, 'ymin')\n",
    "    ymin.text = values[5]\n",
    "    xmax = ET.SubElement(box, 'xmax')\n",
    "    xmax.text = values[6]\n",
    "    ymax = ET.SubElement(box, 'ymax')\n",
    "    ymax.text = values[7]\n",
    "    \n",
    "    \n",
    "    return annot"
   ]
  },
  {
   "cell_type": "code",
   "execution_count": 17,
   "metadata": {},
   "outputs": [],
   "source": [
    "prev_file = None\n",
    "prev_annot = None\n",
    "for i, values in enumerate(rows):\n",
    "    cur_annot = to_annotate(values)\n",
    "    if prev_file is None:\n",
    "        prev_file = values[0]\n",
    "        prev_annot = cur_annot\n",
    "    elif prev_file == values[0]:\n",
    "        # add box\n",
    "        obj = ET.Element('object')\n",
    "        name = ET.SubElement(obj, 'name')\n",
    "        name.text = values[3]\n",
    "        box = ET.SubElement(obj, 'bndbox')\n",
    "        xmin = ET.SubElement(box, 'xmin')\n",
    "        xmin.text = values[4]\n",
    "        ymin = ET.SubElement(box, 'ymin')\n",
    "        ymin.text = values[5]\n",
    "        xmax = ET.SubElement(box, 'xmax')\n",
    "        xmax.text = values[6]\n",
    "        ymax = ET.SubElement(box, 'ymax')\n",
    "        ymax.text = values[7]\n",
    "        prev_annot.append(obj)\n",
    "    else:\n",
    "        data = ET.tostring(prev_annot).decode('utf-8')\n",
    "        file_dest = os.path.join(output_dir, prev_file[:-3] + 'xml')\n",
    "        with open(file_dest, 'w') as f:\n",
    "            f.write(data)\n",
    "        prev_file = values[0]\n",
    "        prev_annot = cur_annot\n",
    "\n",
    "data = ET.tostring(cur_annot).decode('utf-8')\n",
    "with open(prev_file[:-3] + 'xml', 'w') as f:\n",
    "    f.write(data)"
   ]
  },
  {
   "cell_type": "code",
   "execution_count": null,
   "metadata": {},
   "outputs": [],
   "source": []
  }
 ],
 "metadata": {
  "kernelspec": {
   "display_name": "'Python Interactive'",
   "language": "python",
   "name": "b1f5ecc2-9402-4694-868a-a87391986ff5"
  },
  "language_info": {
   "codemirror_mode": {
    "name": "ipython",
    "version": 3
   },
   "file_extension": ".py",
   "mimetype": "text/x-python",
   "name": "python",
   "nbconvert_exporter": "python",
   "pygments_lexer": "ipython3",
   "version": "3.6.8"
  }
 },
 "nbformat": 4,
 "nbformat_minor": 2
}
